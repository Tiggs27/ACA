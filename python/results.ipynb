{
 "cells": [
  {
   "cell_type": "code",
   "execution_count": 1,
   "id": "8d72b5aa",
   "metadata": {},
   "outputs": [],
   "source": [
    "import numpy as np\n",
    "import pandas as pd\n",
    "\n",
    "from sklearn.metrics import accuracy_score\n",
    "from sklearn.metrics import precision_score\n",
    "from sklearn.metrics import recall_score\n",
    "from sklearn.metrics import roc_auc_score\n",
    "from sklearn.model_selection import GridSearchCV,train_test_split\n",
    "\n",
    "from sklearn.ensemble import RandomForestClassifier\n",
    "from sklearn import svm\n",
    "from sklearn.neural_network import MLPClassifier\n",
    "from sklearn.neighbors import KNeighborsClassifier\n",
    "from sklearn.naive_bayes import GaussianNB\n",
    "\n",
    "import seaborn as sns\n",
    "import matplotlib.pyplot as plt"
   ]
  },
  {
   "cell_type": "code",
   "execution_count": 2,
   "id": "981a9293",
   "metadata": {},
   "outputs": [],
   "source": [
    "#READING DATA----------------------------------------------\n",
    "dados = np.load('save/dataset.npz')\n",
    "dataset = dados['dataset']\n",
    "classification = dados['classification']\n",
    "\n",
    "[dataset_train,dataset_test,classification_train,classification_test] = train_test_split(dataset,classification)"
   ]
  },
  {
   "cell_type": "code",
   "execution_count": null,
   "id": "e55a9423",
   "metadata": {},
   "outputs": [],
   "source": [
    "#RANDOM FOREST---------------------------------------------\n",
    "\n",
    "param_grid = {\n",
    "    'n_estimators': [500,1000,3000],                         \n",
    "    'criterion': ['gini','entropy'],              \n",
    "    'max_depth': [50,150,300],                          \n",
    "    'max_samples': [None]                \n",
    "}\n",
    "\n",
    "rfc = RandomForestClassifier()\n",
    "rfc_grid = GridSearchCV(rfc, param_grid ,scoring=['accuracy', 'precision', 'recall', 'roc_auc'], refit='accuracy',verbose = 2, cv=2)\n",
    "rfc_grid.fit(dataset_train, classification_train)\n",
    "rfc_results = pd.DataFrame(rfc_grid.cv_results_)\n",
    "\n",
    "rfc_results.to_csv(\"C:/Temp/aca/rfc_results.csv\")\n",
    "rfc_results.to_pickle('rfc_results.pkl')"
   ]
  },
  {
   "cell_type": "code",
   "execution_count": null,
   "id": "2fc4c6ce",
   "metadata": {},
   "outputs": [],
   "source": [
    "#SVM------------------------------------------------------\n",
    "\n",
    "param_grid = {'C': [0.1,10,100], \n",
    "              'gamma': [0.01,0.1,1],\n",
    "              'kernel': ['poly','rbf'],\n",
    "              'degree': [2,3,4]}\n",
    "\n",
    "svc = svm.SVC()\n",
    "clf = GridSearchCV(svc, param_grid ,scoring=['accuracy', 'precision', 'recall', 'roc_auc'], refit='accuracy',verbose = 2, cv=2)\n",
    "clf.fit(dataset_train, classification_train)\n",
    "svm_results = pd.DataFrame(clf.cv_results_)\n",
    "\n",
    "svm_results.to_csv(\"svm_results.csv\")\n",
    "svm_results.to_pickle('svm_results.pkl')"
   ]
  },
  {
   "cell_type": "code",
   "execution_count": null,
   "id": "b6f8b2ca",
   "metadata": {},
   "outputs": [],
   "source": [
    "#MLP------------------------------------------------------\n",
    "\n",
    "parameters = {'solver': ['adam'], 'max_iter': [1000,1500,2000], 'alpha': [0.1,0.05,1], 'hidden_layer_sizes': [(200,), (500,)], 'random_state':[1,3,5]}\n",
    "\n",
    "MLP_best = GridSearchCV(MLPClassifier(), parameters,scoring=['accuracy', 'precision', 'recall', 'roc_auc'], refit='accuracy',verbose = 2, cv=2)\n",
    "MLP_best.fit(dataset_train, classification_train)\n",
    "mlp_results = pd.DataFrame(MLP_best.cv_results_)\n",
    "\n",
    "mlp_results.to_csv(\"mlp_results.csv\")\n",
    "mlp_results.to_pickle('mlp_results.pkl')"
   ]
  },
  {
   "cell_type": "code",
   "execution_count": null,
   "id": "d92ee65f",
   "metadata": {},
   "outputs": [],
   "source": [
    "#KNN-------------------------------------------------------\n",
    "\n",
    "param_grid = {\n",
    "    'n_neighbors': [1,3,5],                         \n",
    "    'weights': ['uniform', 'distance'],              \n",
    "    'algorithm': ['auto','kd_tree'],                          \n",
    "    'p': [1,2]                \n",
    "}\n",
    "\n",
    "knn = KNeighborsClassifier()\n",
    "knn_best = GridSearchCV(knn, param_grid, scoring=['accuracy', 'precision', 'recall', 'roc_auc'],cv=2, refit='accuracy',verbose=2)\n",
    "knn_best.fit(dataset_train, classification_train)\n",
    "knn_results = pd.DataFrame(knn_best.cv_results_)\n",
    "\n",
    "knn_results.to_csv(\"C:/Temp/aca/knn_results.csv\")\n",
    "knn_results.to_pickle('knn_results.pkl')"
   ]
  },
  {
   "cell_type": "code",
   "execution_count": null,
   "id": "24bdbb00",
   "metadata": {},
   "outputs": [],
   "source": [
    "#GNB------------------------------------------------------\n",
    "\n",
    "parameters = {'var_smoothing': [1e-2, 1e-3, 1e-4, 1e-5, 1e-6, 1e-7, 1e-8, 1e-9, 1e-10, 1e-11, 1e-12, 1e-13, 1e-14, 1e-15]}\n",
    "\n",
    "gnb_clf = GaussianNB()\n",
    "gnb_best = GridSearchCV(gnb_clf, parameters, scoring=['accuracy', 'precision', 'recall', 'roc_auc'],cv=5, refit='accuracy',verbose=2)\n",
    "gnb_best.fit(dataset_train, classification_train)\n",
    "gnb_results = pd.DataFrame(gnb_best.cv_results_)\n",
    "\n",
    "gnb_results.to_csv(\"gnb_results.csv\")\n",
    "gnb_results.to_pickle('gnb_results.pkl')"
   ]
  },
  {
   "cell_type": "code",
   "execution_count": 4,
   "id": "cb62338d",
   "metadata": {},
   "outputs": [
    {
     "name": "stderr",
     "output_type": "stream",
     "text": [
      "C:\\Users\\Gustavo Luizon\\AppData\\Local\\Temp\\ipykernel_11508\\308034733.py:32: FutureWarning: The default value of regex will change from True to False in a future version. In addition, single character regular expressions will *not* be treated as literal strings when regex=True.\n",
      "  plot_data['params'] = plot_data['params'].str.replace(\"{\",\"\").str.replace(\"'\",\"\").str.replace(\"}\",\"\")\n"
     ]
    },
    {
     "data": {
      "image/png": "[encoded data removed]",
      "text/plain": [
       "<Figure size 690.225x432 with 1 Axes>"
      ]
     },
     "metadata": {},
     "output_type": "display_data"
    }
   ],
   "source": [
    "#PLOT------------------------------------------------------\n",
    "\n",
    "#RF\n",
    "# results = pd.read_pickle('save/rfc_results.pkl')\n",
    "# samples = np.array([17,10,9,6,3])\n",
    "#SVM\n",
    "results = pd.read_pickle('save/svm_results.pkl')\n",
    "samples = np.array([0,20,3,6,26])\n",
    "#MLP\n",
    "#results = pd.read_pickle('save/mlp_results.pkl')\n",
    "#samples = np.array([28,10,18,11,52])\n",
    "#KNN\n",
    "#results = pd.read_pickle('save/knn_results.pkl')\n",
    "#samples = np.array([0,4,2,18,22])\n",
    "#GNB\n",
    "#results = pd.read_pickle('save/gnb_results.pkl')\n",
    "#samples = np.array([0,1,2,3,4])\n",
    "\n",
    "\n",
    "plot_data = results.copy()\n",
    "#n_amostras = 5\n",
    "\n",
    "\n",
    "#RESULT SELECTION\n",
    "plot_data = plot_data.iloc[samples]\n",
    "plot_data['id'] = np.arange(len(plot_data))\n",
    "plot_data = plot_data[['id','params','mean_fit_time','std_fit_time','mean_score_time','std_score_time','mean_test_accuracy','rank_test_accuracy','mean_test_precision','rank_test_precision','mean_test_recall','rank_test_recall','mean_test_roc_auc','rank_test_roc_auc']]\n",
    "plot_data = pd.melt(plot_data, id_vars=['id','params'], value_vars=['mean_test_accuracy','mean_test_precision','mean_test_recall','mean_test_roc_auc'])\n",
    "plot_data = plot_data.sort_values(by=['id'])\n",
    "plot_data['params'] = pd.Series(plot_data['params'], dtype=\"string\")\n",
    "plot_data['variable'] = pd.Series(plot_data['variable'], dtype=\"string\")\n",
    "plot_data['params'] = plot_data['params'].str.replace(\"{\",\"\").str.replace(\"'\",\"\").str.replace(\"}\",\"\")\n",
    "plot_data['variable'] = plot_data['variable'].str.replace(\"mean_test_\",\"\")\n",
    "\n",
    "#RESULT PLOT\n",
    "sns.set_theme(style=\"whitegrid\")\n",
    "g = sns.catplot(data=plot_data, kind=\"bar\",x=\"variable\", y=\"value\", hue=\"params\",ci=\"sd\", palette=\"dark\", alpha=.6, height=6)\n",
    "g.despine(left=True)\n",
    "g.set_axis_labels(\"\", \"Metrics\")\n",
    "g.legend.set_title(\"\")\n",
    "\n",
    "ax = g.facet_axis(0,0)\n",
    "for p in ax.patches:\n",
    "    ax.text(p.get_x() + 0.02, \n",
    "            p.get_height()*1.0,\n",
    "            round(p.get_height(),2), \n",
    "            color='black', \n",
    "            rotation='horizontal', \n",
    "            size='x-small')\n",
    "\n",
    "plt.show()"
   ]
  },
  {
   "cell_type": "code",
   "execution_count": 5,
   "id": "e627193a",
   "metadata": {},
   "outputs": [
    {
     "data": {
      "image/png": "[encoded data removed]",
      "text/plain": [
       "<Figure size 495.6x432 with 1 Axes>"
      ]
     },
     "metadata": {},
     "output_type": "display_data"
    }
   ],
   "source": [
    "#PLOTS--------------------------------------------\n",
    "import seaborn as sns\n",
    "import matplotlib.pyplot as plt\n",
    "\n",
    "rfc_acc = 0.9808\n",
    "rfc_prec = 0.9806\n",
    "rfc_recall = 0.9809\n",
    "rfc_auc = 0.9979\n",
    "\n",
    "svm_acc = 0.9626\n",
    "svm_prec = 0.9712\n",
    "svm_recall = 0.9532\n",
    "svm_auc = 0.9905\n",
    "\n",
    "mlp_acc = 0.9502\n",
    "mlp_prec = 0.9490\n",
    "mlp_recall = 0.9516\n",
    "mlp_auc = 0.9884\n",
    "\n",
    "knn_acc = 0.8778\n",
    "knn_prec = 0.9507\n",
    "knn_recall = 0.7960\n",
    "knn_auc = 0.8775\n",
    "\n",
    "gnb_acc = 0.5837\n",
    "gnb_prec = 0.6751\n",
    "gnb_recall = 0.3169\n",
    "gnb_auc = 0.6465\n",
    "\n",
    "\n",
    "sns.set_theme(style=\"whitegrid\")\n",
    "\n",
    "plot_data = pd.DataFrame({\n",
    "    'classifier': ['RFC','RFC','RFC','RFC','SVM','SVM','SVM','SVM','MLP','MLP','MLP','MLP','KNN','KNN','KNN','KNN','GNB','GNB','GNB','GNB'],\n",
    "    'metric': ['Accuracy','precision','recall','auc','Accuracy','precision','recall','auc','Accuracy','precision','recall','auc','Accuracy','precision','recall','auc','Accuracy','precision','recall','auc'],\n",
    "    'value': [rfc_acc,rfc_prec,rfc_recall,rfc_auc,svm_acc,svm_prec,svm_recall,svm_auc,mlp_acc,mlp_prec,mlp_recall,mlp_auc,knn_acc,knn_prec,knn_recall,knn_auc,gnb_acc,gnb_prec,gnb_recall,gnb_auc]\n",
    "})\n",
    "\n",
    "g = sns.catplot(\n",
    "    data=plot_data, kind=\"bar\",\n",
    "    x=\"metric\", y=\"value\", hue=\"classifier\",\n",
    "    ci=\"sd\", palette=\"dark\", alpha=.6, height=6\n",
    ")\n",
    "g.despine(left=True)\n",
    "g.set_axis_labels(\"\", \"Metrics\")\n",
    "g.legend.set_title(\"\")\n",
    "\n",
    "ax = g.facet_axis(0,0)\n",
    "for p in ax.patches:\n",
    "    ax.text(p.get_x() + 0.02, \n",
    "            p.get_height()*1.0,\n",
    "            round(p.get_height(),2), \n",
    "            color='black', \n",
    "            rotation='horizontal', \n",
    "            size='x-small')\n",
    "\n",
    "plt.show()"
   ]
  }
 ],
 "metadata": {
  "interpreter": {
   "hash": "e81fa2311ab6bbcfc4005cbe94f8b088bf3610a4a3a5a09e3f01d108e463e205"
  },
  "kernelspec": {
   "display_name": "Python 3.9.7 ('venv': venv)",
   "language": "python",
   "name": "python3"
  },
  "language_info": {
   "codemirror_mode": {
    "name": "ipython",
    "version": 3
   },
   "file_extension": ".py",
   "mimetype": "text/x-python",
   "name": "python",
   "nbconvert_exporter": "python",
   "pygments_lexer": "ipython3",
   "version": "3.9.7"
  }
 },
 "nbformat": 4,
 "nbformat_minor": 5
}
